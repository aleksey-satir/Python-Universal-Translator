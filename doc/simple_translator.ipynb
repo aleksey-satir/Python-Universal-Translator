{
 "cells": [
  {
   "cell_type": "markdown",
   "metadata": {},
   "source": [
    "### Написание простого транслятора python -> js\n",
    "**вызываемого через cli.py**"
   ]
  },
  {
   "cell_type": "code",
   "execution_count": 1,
   "metadata": {},
   "outputs": [],
   "source": [
    "import _ast"
   ]
  },
  {
   "cell_type": "markdown",
   "metadata": {},
   "source": [
    "**Обработчик для математических операций.**"
   ]
  },
  {
   "cell_type": "code",
   "execution_count": 2,
   "metadata": {},
   "outputs": [],
   "source": [
    "def bin_op(left, right, op):\n",
    "    return left+op+right"
   ]
  },
  {
   "cell_type": "markdown",
   "metadata": {},
   "source": [
    "**Обработчики имени и констант просто возвращают принятые значения, но, например, для транслятора в php обработчик имени подставит знак $**"
   ]
  },
  {
   "cell_type": "code",
   "execution_count": 3,
   "metadata": {},
   "outputs": [],
   "source": [
    "def name(name):\n",
    "    return name\n",
    "\n",
    "def const(val):\n",
    "    return val"
   ]
  },
  {
   "cell_type": "markdown",
   "metadata": {},
   "source": [
    "**Простейшие  блоки в выражение и присваивание в js отличаются наличием ;**"
   ]
  },
  {
   "cell_type": "code",
   "execution_count": 4,
   "metadata": {},
   "outputs": [],
   "source": [
    "def expr(value):\n",
    "    return value+\";\"\n",
    "\n",
    "def assign(var, value):    \n",
    "    return f\"{var} = {value};\""
   ]
  },
  {
   "cell_type": "markdown",
   "metadata": {},
   "source": [
    "**Словарь математических знаков ключaми, которого являются знаки python**"
   ]
  },
  {
   "cell_type": "code",
   "execution_count": 5,
   "metadata": {},
   "outputs": [],
   "source": [
    "sign = {\"+\": \"+\",\n",
    "        \"-\": \"-\",\n",
    "        \"*\": \"*\",\n",
    "        \"/\": \"/\"\n",
    "}"
   ]
  },
  {
   "cell_type": "markdown",
   "metadata": {},
   "source": [
    "**Словари обработчиков ключи - типы объектов _ast**"
   ]
  },
  {
   "cell_type": "code",
   "execution_count": 6,
   "metadata": {},
   "outputs": [],
   "source": [
    "expr_handlers = {_ast.BinOp: bin_op,\n",
    "                 _ast.Name: name,\n",
    "                 _ast.Constant: const\n",
    "}\n",
    "\n",
    "blocks_handlers = {_ast.Assign: assign,\n",
    "                   _ast.Expr: expr\n",
    "}"
   ]
  },
  {
   "cell_type": "markdown",
   "metadata": {},
   "source": [
    "**Готовый файл - translators/test_js.py**"
   ]
  },
  {
   "cell_type": "markdown",
   "metadata": {},
   "source": [
    "**В cлучае запуска через cli.py имена словарей изменять нельзя!**"
   ]
  }
 ],
 "metadata": {
  "kernelspec": {
   "display_name": "Python 3",
   "language": "python",
   "name": "python3"
  },
  "language_info": {
   "codemirror_mode": {
    "name": "ipython",
    "version": 3
   },
   "file_extension": ".py",
   "mimetype": "text/x-python",
   "name": "python",
   "nbconvert_exporter": "python",
   "pygments_lexer": "ipython3",
   "version": "3.8.5"
  }
 },
 "nbformat": 4,
 "nbformat_minor": 4
}
